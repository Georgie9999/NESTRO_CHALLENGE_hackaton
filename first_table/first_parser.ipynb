{
 "cells": [
  {
   "cell_type": "code",
   "execution_count": 2,
   "id": "initial_id",
   "metadata": {
    "collapsed": true,
    "ExecuteTime": {
     "end_time": "2023-09-25T16:15:00.170564800Z",
     "start_time": "2023-09-25T16:14:55.297636100Z"
    }
   },
   "outputs": [
    {
     "data": {
      "text/plain": "    Макропараметры БП 2022-2026            Unnamed: 1  \\\n0                        Курс $  Цена Brent,\\n$/барр.   \n1                           NaN                   NaN   \n2                         71.96                 83.36   \n3                       94.4421                 83.36   \n4                       94.4007                 84.48   \n..                          ...                   ...   \n200                         NaN                   NaN   \n201                         NaN                   NaN   \n202                         NaN                   NaN   \n203                         NaN                   NaN   \n204                         NaN                   NaN   \n\n                           Unnamed: 2                         Unnamed: 3  \\\n0    Spread (Корректировка),\\n$/барр.  Freight (Корректировка),\\n$/барр.   \n1                                 NaN                                NaN   \n2                               -3.24                                 -1   \n3                               -3.67                               -3.1   \n4                               -3.87                               -1.6   \n..                                ...                                ...   \n200                               NaN                                NaN   \n201                               NaN                                NaN   \n202                               NaN                                NaN   \n203                               NaN                                NaN   \n204                               NaN                                NaN   \n\n                   Unnamed: 4                          Unnamed: 5  \\\n0    Дисконт/Премия,\\n$/барр.  Escalation/De-escalation,\\n$/барр.   \n1                         NaN                                 NaN   \n2                           0                                 NaN   \n3                         NaN                                 NaN   \n4                         NaN                                 NaN   \n..                        ...                                 ...   \n200                       NaN                                 NaN   \n201                       NaN                                 NaN   \n202                       NaN                                 NaN   \n203                       NaN                                 NaN   \n204                       NaN                                 NaN   \n\n                             Unnamed: 6               Unnamed: 7  \\\n0    Расчетная цена на границе, $/барр.  Экспортная пошлина, $/т   \n1                                   NaN                      NaN   \n2                                 79.12                     46.7   \n3                                 76.59                     46.7   \n4                                 79.01                     46.7   \n..                                  ...                      ...   \n200                                 NaN                      NaN   \n201                                 NaN                      NaN   \n202                                 NaN                      NaN   \n203                                 NaN                      NaN   \n204                                 NaN                      NaN   \n\n                                   Unnamed: 8     Покупатель  ...  \\\n0    Коммерческие (за искл. Freight), $/барр.            NaN  ...   \n1                                         NaN     Компания 1  ...   \n2                                         NaN     Customer 1  ...   \n3                                         NaN     Customer 1  ...   \n4                                         NaN     Customer 1  ...   \n..                                        ...            ...  ...   \n200                                       NaN            NaN  ...   \n201                                       NaN          Итого  ...   \n202                                       NaN  с учетом доли  ...   \n203                                       NaN            NaN  ...   \n204                                       NaN            NaN  ...   \n\n                                          Unnamed: 107  \\\n0    Макропараметры (brent/ discount/ escalation) м...   \n1                                                  NaN   \n2                                                    0   \n3                                                    0   \n4                                                    0   \n..                                                 ...   \n200                                                NaN   \n201                                                NaN   \n202                                                NaN   \n203                                                NaN   \n204                                                NaN   \n\n                         Unnamed: 108        Unnamed: 109  \\\n0    Макропараметры (spread) млн руб.  Freight,\\nмлн руб.   \n1                                 NaN                 NaN   \n2                          -57.471947                   0   \n3                          -65.092032          -26.604373   \n4                          -76.888972            7.947181   \n..                                ...                 ...   \n200                               NaN                 NaN   \n201                               NaN                 NaN   \n202                               NaN                 NaN   \n203                               NaN                 NaN   \n204                               NaN                 NaN   \n\n                                 Unnamed: 110                  Unnamed: 111  \\\n0    Коммерческие за искл. Freight,\\nмлн руб.  Экспортная пошлина, млн руб.   \n1                                         NaN                           NaN   \n2                                 -119.629924                     49.044423   \n3                                  -70.991378                    144.997825   \n4                                  -42.202492                     162.99594   \n..                                        ...                           ...   \n200                                       NaN                           NaN   \n201                                       NaN                   3460.283016   \n202                                       NaN                   1764.744338   \n203                                       NaN                           NaN   \n204                                       NaN                           NaN   \n\n                                      Unnamed: 112  \\\n0    Курсовые разницы (отгрузка / оплата)\\nмлн руб   \n1                                              NaN   \n2                                        -9.287194   \n3                                       391.410017   \n4                                       460.578802   \n..                                             ...   \n200                                            NaN   \n201                                            NaN   \n202                                            NaN   \n203                                            NaN   \n204                                            NaN   \n\n                   Unnamed: 113  \\\n0    откл НДПИ (макропараметры)   \n1                           NaN   \n2                   -286.448588   \n3                             0   \n4                             0   \n..                          ...   \n200                         NaN   \n201                         NaN   \n202                         NaN   \n203                         NaN   \n204                         NaN   \n\n                                          Unnamed: 114  \\\n0    откл НДПИ уплач от расч НДПИ (курс оплаты)\\nмл...   \n1                                                  NaN   \n2                                            26.226191   \n3                                                  NaN   \n4                                                  NaN   \n..                                                 ...   \n200                                                NaN   \n201                                                NaN   \n202                                                NaN   \n203                                                NaN   \n204                                                NaN   \n\n                                          Unnamed: 115  Unnamed: 116  \n0    откл НДПИ (Argus) и НДПИ (Plats Urals Med), мл...        Эффект  \n1                                                  NaN           NaN  \n2                                            89.742174   -512.586091  \n3                                                  NaN           NaN  \n4                                                  NaN           NaN  \n..                                                 ...           ...  \n200                                                NaN           NaN  \n201                                                NaN           NaN  \n202                                                NaN           NaN  \n203                                                NaN           NaN  \n204                                                NaN           NaN  \n\n[205 rows x 117 columns]",
      "text/html": "<div>\n<style scoped>\n    .dataframe tbody tr th:only-of-type {\n        vertical-align: middle;\n    }\n\n    .dataframe tbody tr th {\n        vertical-align: top;\n    }\n\n    .dataframe thead th {\n        text-align: right;\n    }\n</style>\n<table border=\"1\" class=\"dataframe\">\n  <thead>\n    <tr style=\"text-align: right;\">\n      <th></th>\n      <th>Макропараметры БП 2022-2026</th>\n      <th>Unnamed: 1</th>\n      <th>Unnamed: 2</th>\n      <th>Unnamed: 3</th>\n      <th>Unnamed: 4</th>\n      <th>Unnamed: 5</th>\n      <th>Unnamed: 6</th>\n      <th>Unnamed: 7</th>\n      <th>Unnamed: 8</th>\n      <th>Покупатель</th>\n      <th>...</th>\n      <th>Unnamed: 107</th>\n      <th>Unnamed: 108</th>\n      <th>Unnamed: 109</th>\n      <th>Unnamed: 110</th>\n      <th>Unnamed: 111</th>\n      <th>Unnamed: 112</th>\n      <th>Unnamed: 113</th>\n      <th>Unnamed: 114</th>\n      <th>Unnamed: 115</th>\n      <th>Unnamed: 116</th>\n    </tr>\n  </thead>\n  <tbody>\n    <tr>\n      <th>0</th>\n      <td>Курс $</td>\n      <td>Цена Brent,\\n$/барр.</td>\n      <td>Spread (Корректировка),\\n$/барр.</td>\n      <td>Freight (Корректировка),\\n$/барр.</td>\n      <td>Дисконт/Премия,\\n$/барр.</td>\n      <td>Escalation/De-escalation,\\n$/барр.</td>\n      <td>Расчетная цена на границе, $/барр.</td>\n      <td>Экспортная пошлина, $/т</td>\n      <td>Коммерческие (за искл. Freight), $/барр.</td>\n      <td>NaN</td>\n      <td>...</td>\n      <td>Макропараметры (brent/ discount/ escalation) м...</td>\n      <td>Макропараметры (spread) млн руб.</td>\n      <td>Freight,\\nмлн руб.</td>\n      <td>Коммерческие за искл. Freight,\\nмлн руб.</td>\n      <td>Экспортная пошлина, млн руб.</td>\n      <td>Курсовые разницы (отгрузка / оплата)\\nмлн руб</td>\n      <td>откл НДПИ (макропараметры)</td>\n      <td>откл НДПИ уплач от расч НДПИ (курс оплаты)\\nмл...</td>\n      <td>откл НДПИ (Argus) и НДПИ (Plats Urals Med), мл...</td>\n      <td>Эффект</td>\n    </tr>\n    <tr>\n      <th>1</th>\n      <td>NaN</td>\n      <td>NaN</td>\n      <td>NaN</td>\n      <td>NaN</td>\n      <td>NaN</td>\n      <td>NaN</td>\n      <td>NaN</td>\n      <td>NaN</td>\n      <td>NaN</td>\n      <td>Компания 1</td>\n      <td>...</td>\n      <td>NaN</td>\n      <td>NaN</td>\n      <td>NaN</td>\n      <td>NaN</td>\n      <td>NaN</td>\n      <td>NaN</td>\n      <td>NaN</td>\n      <td>NaN</td>\n      <td>NaN</td>\n      <td>NaN</td>\n    </tr>\n    <tr>\n      <th>2</th>\n      <td>71.96</td>\n      <td>83.36</td>\n      <td>-3.24</td>\n      <td>-1</td>\n      <td>0</td>\n      <td>NaN</td>\n      <td>79.12</td>\n      <td>46.7</td>\n      <td>NaN</td>\n      <td>Customer 1</td>\n      <td>...</td>\n      <td>0</td>\n      <td>-57.471947</td>\n      <td>0</td>\n      <td>-119.629924</td>\n      <td>49.044423</td>\n      <td>-9.287194</td>\n      <td>-286.448588</td>\n      <td>26.226191</td>\n      <td>89.742174</td>\n      <td>-512.586091</td>\n    </tr>\n    <tr>\n      <th>3</th>\n      <td>94.4421</td>\n      <td>83.36</td>\n      <td>-3.67</td>\n      <td>-3.1</td>\n      <td>NaN</td>\n      <td>NaN</td>\n      <td>76.59</td>\n      <td>46.7</td>\n      <td>NaN</td>\n      <td>Customer 1</td>\n      <td>...</td>\n      <td>0</td>\n      <td>-65.092032</td>\n      <td>-26.604373</td>\n      <td>-70.991378</td>\n      <td>144.997825</td>\n      <td>391.410017</td>\n      <td>0</td>\n      <td>NaN</td>\n      <td>NaN</td>\n      <td>NaN</td>\n    </tr>\n    <tr>\n      <th>4</th>\n      <td>94.4007</td>\n      <td>84.48</td>\n      <td>-3.87</td>\n      <td>-1.6</td>\n      <td>NaN</td>\n      <td>NaN</td>\n      <td>79.01</td>\n      <td>46.7</td>\n      <td>NaN</td>\n      <td>Customer 1</td>\n      <td>...</td>\n      <td>0</td>\n      <td>-76.888972</td>\n      <td>7.947181</td>\n      <td>-42.202492</td>\n      <td>162.99594</td>\n      <td>460.578802</td>\n      <td>0</td>\n      <td>NaN</td>\n      <td>NaN</td>\n      <td>NaN</td>\n    </tr>\n    <tr>\n      <th>...</th>\n      <td>...</td>\n      <td>...</td>\n      <td>...</td>\n      <td>...</td>\n      <td>...</td>\n      <td>...</td>\n      <td>...</td>\n      <td>...</td>\n      <td>...</td>\n      <td>...</td>\n      <td>...</td>\n      <td>...</td>\n      <td>...</td>\n      <td>...</td>\n      <td>...</td>\n      <td>...</td>\n      <td>...</td>\n      <td>...</td>\n      <td>...</td>\n      <td>...</td>\n      <td>...</td>\n    </tr>\n    <tr>\n      <th>200</th>\n      <td>NaN</td>\n      <td>NaN</td>\n      <td>NaN</td>\n      <td>NaN</td>\n      <td>NaN</td>\n      <td>NaN</td>\n      <td>NaN</td>\n      <td>NaN</td>\n      <td>NaN</td>\n      <td>NaN</td>\n      <td>...</td>\n      <td>NaN</td>\n      <td>NaN</td>\n      <td>NaN</td>\n      <td>NaN</td>\n      <td>NaN</td>\n      <td>NaN</td>\n      <td>NaN</td>\n      <td>NaN</td>\n      <td>NaN</td>\n      <td>NaN</td>\n    </tr>\n    <tr>\n      <th>201</th>\n      <td>NaN</td>\n      <td>NaN</td>\n      <td>NaN</td>\n      <td>NaN</td>\n      <td>NaN</td>\n      <td>NaN</td>\n      <td>NaN</td>\n      <td>NaN</td>\n      <td>NaN</td>\n      <td>Итого</td>\n      <td>...</td>\n      <td>NaN</td>\n      <td>NaN</td>\n      <td>NaN</td>\n      <td>NaN</td>\n      <td>3460.283016</td>\n      <td>NaN</td>\n      <td>NaN</td>\n      <td>NaN</td>\n      <td>NaN</td>\n      <td>NaN</td>\n    </tr>\n    <tr>\n      <th>202</th>\n      <td>NaN</td>\n      <td>NaN</td>\n      <td>NaN</td>\n      <td>NaN</td>\n      <td>NaN</td>\n      <td>NaN</td>\n      <td>NaN</td>\n      <td>NaN</td>\n      <td>NaN</td>\n      <td>с учетом доли</td>\n      <td>...</td>\n      <td>NaN</td>\n      <td>NaN</td>\n      <td>NaN</td>\n      <td>NaN</td>\n      <td>1764.744338</td>\n      <td>NaN</td>\n      <td>NaN</td>\n      <td>NaN</td>\n      <td>NaN</td>\n      <td>NaN</td>\n    </tr>\n    <tr>\n      <th>203</th>\n      <td>NaN</td>\n      <td>NaN</td>\n      <td>NaN</td>\n      <td>NaN</td>\n      <td>NaN</td>\n      <td>NaN</td>\n      <td>NaN</td>\n      <td>NaN</td>\n      <td>NaN</td>\n      <td>NaN</td>\n      <td>...</td>\n      <td>NaN</td>\n      <td>NaN</td>\n      <td>NaN</td>\n      <td>NaN</td>\n      <td>NaN</td>\n      <td>NaN</td>\n      <td>NaN</td>\n      <td>NaN</td>\n      <td>NaN</td>\n      <td>NaN</td>\n    </tr>\n    <tr>\n      <th>204</th>\n      <td>NaN</td>\n      <td>NaN</td>\n      <td>NaN</td>\n      <td>NaN</td>\n      <td>NaN</td>\n      <td>NaN</td>\n      <td>NaN</td>\n      <td>NaN</td>\n      <td>NaN</td>\n      <td>NaN</td>\n      <td>...</td>\n      <td>NaN</td>\n      <td>NaN</td>\n      <td>NaN</td>\n      <td>NaN</td>\n      <td>NaN</td>\n      <td>NaN</td>\n      <td>NaN</td>\n      <td>NaN</td>\n      <td>NaN</td>\n      <td>NaN</td>\n    </tr>\n  </tbody>\n</table>\n<p>205 rows × 117 columns</p>\n</div>"
     },
     "execution_count": 2,
     "metadata": {},
     "output_type": "execute_result"
    }
   ],
   "source": [
    "import pandas as pd\n",
    "import numpy as np\n",
    "data = pd.read_excel(\"Приложение 1.xlsx\")\n",
    "data"
   ]
  },
  {
   "cell_type": "code",
   "execution_count": 1,
   "outputs": [],
   "source": [
    "import urllib\n",
    "import requests\n",
    "from bs4 import BeautifulSoup as bs\n",
    "import urllib.request as urllib2\n",
    "\n",
    "from urllib.request import Request, urlopen\n",
    "from urllib.error import HTTPError\n",
    "from urllib.request import urlopen\n",
    "url = 'https://ru.investing.com/commodities/brent-wti-crude-spread-futures-historical-data'\n",
    "req = Request(url, headers={'User-Agent': 'Mozilla/5.0'})\n",
    "\n",
    "web_byte = urlopen(req).read()\n",
    "\n",
    "webpage = web_byte.decode('utf-8')\n",
    "webpage"
   ],
   "metadata": {
    "collapsed": false,
    "ExecuteTime": {
     "end_time": "2023-10-03T14:49:16.207348500Z",
     "start_time": "2023-10-03T14:49:14.450091900Z"
    }
   },
   "id": "9c8a54f868561636"
  },
  {
   "cell_type": "code",
   "execution_count": 4,
   "outputs": [
    {
     "name": "stdout",
     "output_type": "stream",
     "text": [
      "-3,24\n",
      "-3,67\n",
      "-3,85\n",
      "-3,87\n",
      "-3,91\n",
      "-3,90\n",
      "-3,77\n",
      "-3,81\n",
      "-3,76\n",
      "-3,23\n",
      "-4,23\n",
      "-4,32\n",
      "-4,61\n"
     ]
    }
   ],
   "source": [
    "soup = bs(webpage, \"html.parser\")\n",
    "quotes = soup.find_all('td', class_='datatable_cell__LJp3C datatable_cell--align-end__qgxDQ datatable_cell--up__hIuZF text-right text-sm font-normal leading-5 align-middle min-w-[77px] text-[#007C32]')\n",
    "\n",
    "\n",
    "for quote in quotes:\n",
    "    print(quote.text)\n",
    "\n"
   ],
   "metadata": {
    "collapsed": false,
    "ExecuteTime": {
     "end_time": "2023-09-25T16:15:05.296252500Z",
     "start_time": "2023-09-25T16:15:04.620414100Z"
    }
   },
   "id": "793c5aee93c60b1e"
  },
  {
   "cell_type": "code",
   "execution_count": 5,
   "outputs": [],
   "source": [
    "data\n",
    "data.columns = data.iloc[0]\n",
    "data = data.drop(0, axis = 0)"
   ],
   "metadata": {
    "collapsed": false,
    "ExecuteTime": {
     "end_time": "2023-09-25T16:15:05.317361100Z",
     "start_time": "2023-09-25T16:15:05.066010600Z"
    }
   },
   "id": "c8c71d9a15de715b"
  },
  {
   "cell_type": "code",
   "execution_count": 15,
   "outputs": [
    {
     "data": {
      "text/plain": "Index([                                               'Курс $',\n                                        'Цена Brent,\\n$/барр.',\n                            'Spread (Корректировка),\\n$/барр.',\n                           'Freight (Корректировка),\\n$/барр.',\n                                    'Дисконт/Премия,\\n$/барр.',\n                          'Escalation/De-escalation,\\n$/барр.',\n                          'Расчетная цена на границе, $/барр.',\n                                     'Экспортная пошлина, $/т',\n                    'Коммерческие (за искл. Freight), $/барр.',\n                                                           nan,\n       ...\n       'Макропараметры (brent/ discount/ escalation) млн руб.',\n                            'Макропараметры (spread) млн руб.',\n                                          'Freight,\\nмлн руб.',\n                    'Коммерческие за искл. Freight,\\nмлн руб.',\n                                'Экспортная пошлина, млн руб.',\n               'Курсовые разницы (отгрузка / оплата)\\nмлн руб',\n                                  'откл НДПИ (макропараметры)',\n         'откл НДПИ уплач от расч НДПИ (курс оплаты)\\nмлн руб',\n        'откл НДПИ (Argus) и НДПИ (Plats Urals Med), млн руб.',\n                                                      'Эффект'],\n      dtype='object', name=0, length=117)"
     },
     "execution_count": 15,
     "metadata": {},
     "output_type": "execute_result"
    }
   ],
   "source": [
    "data.columns"
   ],
   "metadata": {
    "collapsed": false,
    "ExecuteTime": {
     "end_time": "2023-09-25T16:24:58.526417900Z",
     "start_time": "2023-09-25T16:24:58.362502700Z"
    }
   },
   "id": "9a11f4891a3ef140"
  },
  {
   "cell_type": "code",
   "execution_count": 7,
   "outputs": [
    {
     "data": {
      "text/plain": "'D'"
     },
     "execution_count": 7,
     "metadata": {},
     "output_type": "execute_result"
    }
   ],
   "source": [
    "ord('D')\n",
    "chr(68)"
   ],
   "metadata": {
    "collapsed": false,
    "ExecuteTime": {
     "end_time": "2023-09-25T16:15:05.332387400Z",
     "start_time": "2023-09-25T16:15:05.174627Z"
    }
   },
   "id": "4f0673f141eecec1"
  },
  {
   "cell_type": "code",
   "execution_count": 14,
   "outputs": [
    {
     "data": {
      "text/plain": "1            NaT\n2     2023-08-23\n3     2023-08-24\n4     2023-08-25\n5     2023-08-26\n         ...    \n200          NaT\n201          NaT\n202          NaT\n203          NaT\n204          NaT\nName: NaT, Length: 204, dtype: datetime64[ns]"
     },
     "execution_count": 14,
     "metadata": {},
     "output_type": "execute_result"
    }
   ],
   "source": [
    "data.iloc[:, 13]\n"
   ],
   "metadata": {
    "collapsed": false,
    "ExecuteTime": {
     "end_time": "2023-09-25T16:20:42.543441300Z",
     "start_time": "2023-09-25T16:20:42.413381Z"
    }
   },
   "id": "c696d46d7a0f07a2"
  },
  {
   "cell_type": "code",
   "execution_count": 16,
   "outputs": [],
   "source": [
    "dolar_course = data['Spread (Корректировка),\\n$/барр.'][data['Spread (Корректировка),\\n$/барр.'].notna()]"
   ],
   "metadata": {
    "collapsed": false,
    "ExecuteTime": {
     "end_time": "2023-09-25T16:29:22.878261500Z",
     "start_time": "2023-09-25T16:29:22.731271400Z"
    }
   },
   "id": "f9c2e81bd41a9c94"
  },
  {
   "cell_type": "code",
   "execution_count": 19,
   "outputs": [
    {
     "data": {
      "text/plain": "Index([                                               'Курс $',\n                                        'Цена Brent,\\n$/барр.',\n                            'Spread (Корректировка),\\n$/барр.',\n                           'Freight (Корректировка),\\n$/барр.',\n                                    'Дисконт/Премия,\\n$/барр.',\n                          'Escalation/De-escalation,\\n$/барр.',\n                          'Расчетная цена на границе, $/барр.',\n                                     'Экспортная пошлина, $/т',\n                    'Коммерческие (за искл. Freight), $/барр.',\n                                                           nan,\n       ...\n       'Макропараметры (brent/ discount/ escalation) млн руб.',\n                            'Макропараметры (spread) млн руб.',\n                                          'Freight,\\nмлн руб.',\n                    'Коммерческие за искл. Freight,\\nмлн руб.',\n                                'Экспортная пошлина, млн руб.',\n               'Курсовые разницы (отгрузка / оплата)\\nмлн руб',\n                                  'откл НДПИ (макропараметры)',\n         'откл НДПИ уплач от расч НДПИ (курс оплаты)\\nмлн руб',\n        'откл НДПИ (Argus) и НДПИ (Plats Urals Med), млн руб.',\n                                                      'Эффект'],\n      dtype='object', name=0, length=117)"
     },
     "execution_count": 19,
     "metadata": {},
     "output_type": "execute_result"
    }
   ],
   "source": [
    "# 23.08 - 16.09\n",
    "data.columns"
   ],
   "metadata": {
    "collapsed": false,
    "ExecuteTime": {
     "end_time": "2023-09-25T17:02:03.160143600Z",
     "start_time": "2023-09-25T17:02:03.030636300Z"
    }
   },
   "id": "8f3c7af76d6bf577"
  },
  {
   "cell_type": "code",
   "execution_count": 18,
   "outputs": [
    {
     "data": {
      "text/plain": "WindowsPath('C:/Users/ghjch/miniconda3/lib/site-packages/Приложение 1.xlsx')"
     },
     "execution_count": 18,
     "metadata": {},
     "output_type": "execute_result"
    }
   ],
   "source": [
    "import pathlib\n",
    "import os\n",
    "import sys\n",
    "pathlib.Path(sys.argv[0]).parent / 'Приложение 1.xlsx'"
   ],
   "metadata": {
    "collapsed": false,
    "ExecuteTime": {
     "end_time": "2023-09-25T16:46:01.012902400Z",
     "start_time": "2023-09-25T16:46:00.917593100Z"
    }
   },
   "id": "da10b6828495d1e3"
  },
  {
   "cell_type": "code",
   "execution_count": 10,
   "outputs": [
    {
     "name": "stdout",
     "output_type": "stream",
     "text": [
      "2022-02-01\n"
     ]
    }
   ],
   "source": [
    "from datetime import timedelta, datetime\n",
    "from dateutil.relativedelta import *\n",
    "t = datetime(2022, 1, 1)\n",
    "print(datetime(2022, 1, 1)+ relativedelta(months=+1))"
   ],
   "metadata": {
    "collapsed": false,
    "ExecuteTime": {
     "end_time": "2023-09-25T19:56:47.173021500Z",
     "start_time": "2023-09-25T19:56:47.027884400Z"
    }
   },
   "id": "e2b854a72f0cdc6d"
  },
  {
   "cell_type": "code",
   "execution_count": null,
   "outputs": [],
   "source": [],
   "metadata": {
    "collapsed": false
   },
   "id": "9f3d1e830b1fd199"
  }
 ],
 "metadata": {
  "kernelspec": {
   "display_name": "Python 3",
   "language": "python",
   "name": "python3"
  },
  "language_info": {
   "codemirror_mode": {
    "name": "ipython",
    "version": 2
   },
   "file_extension": ".py",
   "mimetype": "text/x-python",
   "name": "python",
   "nbconvert_exporter": "python",
   "pygments_lexer": "ipython2",
   "version": "2.7.6"
  }
 },
 "nbformat": 4,
 "nbformat_minor": 5
}
