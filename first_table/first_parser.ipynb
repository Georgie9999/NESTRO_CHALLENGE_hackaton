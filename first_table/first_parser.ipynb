{
 "cells": [
  {
   "cell_type": "code",
   "execution_count": 9,
   "id": "initial_id",
   "metadata": {
    "collapsed": true,
    "ExecuteTime": {
     "end_time": "2023-10-03T21:02:16.075488100Z",
     "start_time": "2023-10-03T21:02:13.944192900Z"
    }
   },
   "outputs": [],
   "source": [
    "import pandas as pd\n",
    "import numpy as np\n",
    "data = pd.read_excel(\"Приложение 1.xlsx\")\n",
    "data"
   ]
  },
  {
   "cell_type": "code",
   "execution_count": 10,
   "outputs": [],
   "source": [
    "import urllib\n",
    "import requests\n",
    "from bs4 import BeautifulSoup as bs\n",
    "import urllib.request as urllib2\n",
    "\n",
    "from urllib.request import Request, urlopen\n",
    "from urllib.error import HTTPError\n",
    "from urllib.request import urlopen\n",
    "url = 'https://ru.investing.com/commodities/brent-wti-crude-spread-futures-historical-data'\n",
    "req = Request(url, headers={'User-Agent': 'Mozilla/5.0'})\n",
    "\n",
    "web_byte = urlopen(req).read()\n",
    "\n",
    "webpage = web_byte.decode('utf-8')\n",
    "webpage"
   ],
   "metadata": {
    "collapsed": false,
    "ExecuteTime": {
     "end_time": "2023-10-03T21:02:19.895566400Z",
     "start_time": "2023-10-03T21:02:16.110192400Z"
    }
   },
   "id": "9c8a54f868561636"
  },
  {
   "cell_type": "code",
   "execution_count": 11,
   "outputs": [],
   "source": [
    "soup = bs(webpage, \"html.parser\")\n",
    "quotes = soup.find_all('td', class_='datatable_cell__LJp3C datatable_cell--align-end__qgxDQ datatable_cell--up__hIuZF text-right text-sm font-normal leading-5 align-middle min-w-[77px] text-[#007C32]')\n",
    "\n",
    "\n",
    "for quote in quotes:\n",
    "    print(quote.text)\n",
    "\n"
   ],
   "metadata": {
    "collapsed": false,
    "ExecuteTime": {
     "end_time": "2023-10-03T21:02:20.322048100Z",
     "start_time": "2023-10-03T21:02:19.922186Z"
    }
   },
   "id": "793c5aee93c60b1e"
  },
  {
   "cell_type": "code",
   "execution_count": 12,
   "outputs": [],
   "source": [
    "data\n",
    "data.columns = data.iloc[0]\n",
    "data = data.drop(0, axis = 0)"
   ],
   "metadata": {
    "collapsed": false,
    "ExecuteTime": {
     "end_time": "2023-10-03T21:02:20.371944700Z",
     "start_time": "2023-10-03T21:02:20.330031800Z"
    }
   },
   "id": "c8c71d9a15de715b"
  },
  {
   "cell_type": "code",
   "execution_count": 13,
   "outputs": [],
   "source": [
    "data.columns"
   ],
   "metadata": {
    "collapsed": false,
    "ExecuteTime": {
     "end_time": "2023-10-03T21:02:20.372962600Z",
     "start_time": "2023-10-03T21:02:20.353112100Z"
    }
   },
   "id": "9a11f4891a3ef140"
  },
  {
   "cell_type": "code",
   "execution_count": 14,
   "outputs": [
    {
     "data": {
      "text/plain": "'D'"
     },
     "execution_count": 14,
     "metadata": {},
     "output_type": "execute_result"
    }
   ],
   "source": [
    "ord('D')\n",
    "chr(68)"
   ],
   "metadata": {
    "collapsed": false,
    "ExecuteTime": {
     "end_time": "2023-10-03T21:02:20.374978Z",
     "start_time": "2023-10-03T21:02:20.359094700Z"
    }
   },
   "id": "4f0673f141eecec1"
  },
  {
   "cell_type": "code",
   "execution_count": 15,
   "outputs": [],
   "source": [
    "data.iloc[:, 13]\n"
   ],
   "metadata": {
    "collapsed": false,
    "ExecuteTime": {
     "end_time": "2023-10-03T21:02:20.395039700Z",
     "start_time": "2023-10-03T21:02:20.377961500Z"
    }
   },
   "id": "c696d46d7a0f07a2"
  },
  {
   "cell_type": "code",
   "execution_count": 16,
   "outputs": [],
   "source": [
    "dolar_course = data['Spread (Корректировка),\\n$/барр.'][data['Spread (Корректировка),\\n$/барр.'].notna()]"
   ],
   "metadata": {
    "collapsed": false,
    "ExecuteTime": {
     "end_time": "2023-10-03T21:02:20.459799200Z",
     "start_time": "2023-10-03T21:02:20.402607700Z"
    }
   },
   "id": "f9c2e81bd41a9c94"
  },
  {
   "cell_type": "code",
   "execution_count": 17,
   "outputs": [],
   "source": [
    "# 23.08 - 16.09\n",
    "data.columns"
   ],
   "metadata": {
    "collapsed": false,
    "ExecuteTime": {
     "end_time": "2023-10-03T21:02:20.476860200Z",
     "start_time": "2023-10-03T21:02:20.415160300Z"
    }
   },
   "id": "8f3c7af76d6bf577"
  },
  {
   "cell_type": "code",
   "execution_count": 28,
   "outputs": [
    {
     "name": "stdout",
     "output_type": "stream",
     "text": [
      "2022-02-01 00:00:00\n"
     ]
    }
   ],
   "source": [
    "import pathlib\n",
    "import os\n",
    "import sys\n",
    "pathlib.Path(sys.argv[0]).parent / 'Приложение 1.xlsx'"
   ],
   "metadata": {
    "collapsed": false,
    "ExecuteTime": {
     "end_time": "2023-10-03T21:39:30.808033400Z",
     "start_time": "2023-10-03T21:39:30.759840800Z"
    }
   },
   "id": "da10b6828495d1e3"
  },
  {
   "cell_type": "code",
   "execution_count": 29,
   "outputs": [
    {
     "data": {
      "text/plain": "0     Курс $ Цена Brent,\\n$/барр. Spread (Корректировка),\\n$/барр.  \\\n1        NaN                  NaN                              NaN   \n2      71.96                83.36                            -3.24   \n3    94.4421                83.36                            -3.67   \n4    94.4007                84.48                            -3.87   \n5    94.7117                84.48                            -3.86   \n..       ...                  ...                              ...   \n200      NaN                  NaN                              NaN   \n201      NaN                  NaN                              NaN   \n202      NaN                  NaN                              NaN   \n203      NaN                  NaN                              NaN   \n204      NaN                  NaN                              NaN   \n\n0   Freight (Корректировка),\\n$/барр. Дисконт/Премия,\\n$/барр.  \\\n1                                 NaN                      NaN   \n2                                 2.7                      NaN   \n3                                -2.8                      NaN   \n4                                 0.7                      NaN   \n5                                 1.1                      NaN   \n..                                ...                      ...   \n200                               NaN                      NaN   \n201                               NaN                      NaN   \n202                               NaN                      NaN   \n203                               NaN                      NaN   \n204                               NaN                      NaN   \n\n0   Escalation/De-escalation,\\n$/барр. Расчетная цена на границе, $/барр.  \\\n1                                  NaN                                NaN   \n2                                  NaN                              82.82   \n3                                  NaN                              76.89   \n4                                  NaN                              81.31   \n5                                  NaN                              81.72   \n..                                 ...                                ...   \n200                                NaN                                NaN   \n201                                NaN                                NaN   \n202                                NaN                                NaN   \n203                                NaN                                NaN   \n204                                NaN                                NaN   \n\n0   Экспортная пошлина, $/т Коммерческие (за искл. Freight), $/барр.  \\\n1                       NaN                                      NaN   \n2                      46.7                                      NaN   \n3                      46.7                                      NaN   \n4                      46.7                                      NaN   \n5                      46.7                                      NaN   \n..                      ...                                      ...   \n200                     NaN                                      NaN   \n201                     NaN                                      NaN   \n202                     NaN                                      NaN   \n203                     NaN                                      NaN   \n204                     NaN                                      NaN   \n\n0              NaN  ... Макропараметры (brent/ discount/ escalation) млн руб.  \\\n1       Компания 1  ...                                                NaN      \n2       Customer 1  ...                                                  0      \n3       Customer 1  ...                                                  0      \n4       Customer 1  ...                                                  0      \n5       Customer 1  ...                                                  0      \n..             ...  ...                                                ...      \n200            NaN  ...                                                NaN      \n201          Итого  ...                                                NaN      \n202  с учетом доли  ...                                                NaN      \n203            NaN  ...                                                NaN      \n204            NaN  ...                                                NaN      \n\n0   Макропараметры (spread) млн руб. Freight,\\nмлн руб.  \\\n1                                NaN                NaN   \n2                         -57.471947                  0   \n3                          -81.78638          -77.99791   \n4                         -61.513609          -6.357996   \n5                         -66.260853          -5.149807   \n..                               ...                ...   \n200                              NaN                NaN   \n201                              NaN                NaN   \n202                              NaN                NaN   \n203                              NaN                NaN   \n204                              NaN                NaN   \n\n0   Коммерческие за искл. Freight,\\nмлн руб. Экспортная пошлина, млн руб.  \\\n1                                        NaN                          NaN   \n2                                 -56.775973                    49.044423   \n3                                 -64.784366                   144.997825   \n4                                    9.40762                   103.035759   \n5                                  16.915447                   110.752831   \n..                                       ...                          ...   \n200                                      NaN                          NaN   \n201                                      NaN                  2856.285189   \n202                                      NaN                  1456.705446   \n203                                      NaN                          NaN   \n204                                      NaN                          NaN   \n\n0   Курсовые разницы (отгрузка / оплата)\\nмлн руб  откл НДПИ (макропараметры)  \\\n1                                             NaN                         NaN   \n2                                       -9.721504                 -286.448588   \n3                                       35.836333                           0   \n4                                       22.701428                           0   \n5                                         12.9422                           0   \n..                                            ...                         ...   \n200                                           NaN                         NaN   \n201                                   2998.991149                         NaN   \n202                                   1529.485486                         NaN   \n203                                           NaN                         NaN   \n204                                           NaN                         NaN   \n\n0   откл НДПИ уплач от расч НДПИ (курс оплаты)\\nмлн руб  \\\n1                                                  NaN    \n2                                            26.226191    \n3                                                  NaN    \n4                                                  NaN    \n5                                                  NaN    \n..                                                 ...    \n200                                                NaN    \n201                                                NaN    \n202                                                NaN    \n203                                                NaN    \n204                                                NaN    \n\n0   откл НДПИ (Argus) и НДПИ (Plats Urals Med), млн руб.     Эффект  \n1                                                  NaN          NaN  \n2                                            89.742174   -317.59181  \n3                                                  NaN          NaN  \n4                                                  NaN          NaN  \n5                                                  NaN          NaN  \n..                                                 ...          ...  \n200                                                NaN          NaN  \n201                                                NaN          NaN  \n202                                                NaN          NaN  \n203                                                NaN          NaN  \n204                                                NaN          NaN  \n\n[204 rows x 117 columns]",
      "text/html": "<div>\n<style scoped>\n    .dataframe tbody tr th:only-of-type {\n        vertical-align: middle;\n    }\n\n    .dataframe tbody tr th {\n        vertical-align: top;\n    }\n\n    .dataframe thead th {\n        text-align: right;\n    }\n</style>\n<table border=\"1\" class=\"dataframe\">\n  <thead>\n    <tr style=\"text-align: right;\">\n      <th></th>\n      <th>Курс $</th>\n      <th>Цена Brent,\\n$/барр.</th>\n      <th>Spread (Корректировка),\\n$/барр.</th>\n      <th>Freight (Корректировка),\\n$/барр.</th>\n      <th>Дисконт/Премия,\\n$/барр.</th>\n      <th>Escalation/De-escalation,\\n$/барр.</th>\n      <th>Расчетная цена на границе, $/барр.</th>\n      <th>Экспортная пошлина, $/т</th>\n      <th>Коммерческие (за искл. Freight), $/барр.</th>\n      <th>NaN</th>\n      <th>...</th>\n      <th>Макропараметры (brent/ discount/ escalation) млн руб.</th>\n      <th>Макропараметры (spread) млн руб.</th>\n      <th>Freight,\\nмлн руб.</th>\n      <th>Коммерческие за искл. Freight,\\nмлн руб.</th>\n      <th>Экспортная пошлина, млн руб.</th>\n      <th>Курсовые разницы (отгрузка / оплата)\\nмлн руб</th>\n      <th>откл НДПИ (макропараметры)</th>\n      <th>откл НДПИ уплач от расч НДПИ (курс оплаты)\\nмлн руб</th>\n      <th>откл НДПИ (Argus) и НДПИ (Plats Urals Med), млн руб.</th>\n      <th>Эффект</th>\n    </tr>\n  </thead>\n  <tbody>\n    <tr>\n      <th>1</th>\n      <td>NaN</td>\n      <td>NaN</td>\n      <td>NaN</td>\n      <td>NaN</td>\n      <td>NaN</td>\n      <td>NaN</td>\n      <td>NaN</td>\n      <td>NaN</td>\n      <td>NaN</td>\n      <td>Компания 1</td>\n      <td>...</td>\n      <td>NaN</td>\n      <td>NaN</td>\n      <td>NaN</td>\n      <td>NaN</td>\n      <td>NaN</td>\n      <td>NaN</td>\n      <td>NaN</td>\n      <td>NaN</td>\n      <td>NaN</td>\n      <td>NaN</td>\n    </tr>\n    <tr>\n      <th>2</th>\n      <td>71.96</td>\n      <td>83.36</td>\n      <td>-3.24</td>\n      <td>2.7</td>\n      <td>NaN</td>\n      <td>NaN</td>\n      <td>82.82</td>\n      <td>46.7</td>\n      <td>NaN</td>\n      <td>Customer 1</td>\n      <td>...</td>\n      <td>0</td>\n      <td>-57.471947</td>\n      <td>0</td>\n      <td>-56.775973</td>\n      <td>49.044423</td>\n      <td>-9.721504</td>\n      <td>-286.448588</td>\n      <td>26.226191</td>\n      <td>89.742174</td>\n      <td>-317.59181</td>\n    </tr>\n    <tr>\n      <th>3</th>\n      <td>94.4421</td>\n      <td>83.36</td>\n      <td>-3.67</td>\n      <td>-2.8</td>\n      <td>NaN</td>\n      <td>NaN</td>\n      <td>76.89</td>\n      <td>46.7</td>\n      <td>NaN</td>\n      <td>Customer 1</td>\n      <td>...</td>\n      <td>0</td>\n      <td>-81.78638</td>\n      <td>-77.99791</td>\n      <td>-64.784366</td>\n      <td>144.997825</td>\n      <td>35.836333</td>\n      <td>0</td>\n      <td>NaN</td>\n      <td>NaN</td>\n      <td>NaN</td>\n    </tr>\n    <tr>\n      <th>4</th>\n      <td>94.4007</td>\n      <td>84.48</td>\n      <td>-3.87</td>\n      <td>0.7</td>\n      <td>NaN</td>\n      <td>NaN</td>\n      <td>81.31</td>\n      <td>46.7</td>\n      <td>NaN</td>\n      <td>Customer 1</td>\n      <td>...</td>\n      <td>0</td>\n      <td>-61.513609</td>\n      <td>-6.357996</td>\n      <td>9.40762</td>\n      <td>103.035759</td>\n      <td>22.701428</td>\n      <td>0</td>\n      <td>NaN</td>\n      <td>NaN</td>\n      <td>NaN</td>\n    </tr>\n    <tr>\n      <th>5</th>\n      <td>94.7117</td>\n      <td>84.48</td>\n      <td>-3.86</td>\n      <td>1.1</td>\n      <td>NaN</td>\n      <td>NaN</td>\n      <td>81.72</td>\n      <td>46.7</td>\n      <td>NaN</td>\n      <td>Customer 1</td>\n      <td>...</td>\n      <td>0</td>\n      <td>-66.260853</td>\n      <td>-5.149807</td>\n      <td>16.915447</td>\n      <td>110.752831</td>\n      <td>12.9422</td>\n      <td>0</td>\n      <td>NaN</td>\n      <td>NaN</td>\n      <td>NaN</td>\n    </tr>\n    <tr>\n      <th>...</th>\n      <td>...</td>\n      <td>...</td>\n      <td>...</td>\n      <td>...</td>\n      <td>...</td>\n      <td>...</td>\n      <td>...</td>\n      <td>...</td>\n      <td>...</td>\n      <td>...</td>\n      <td>...</td>\n      <td>...</td>\n      <td>...</td>\n      <td>...</td>\n      <td>...</td>\n      <td>...</td>\n      <td>...</td>\n      <td>...</td>\n      <td>...</td>\n      <td>...</td>\n      <td>...</td>\n    </tr>\n    <tr>\n      <th>200</th>\n      <td>NaN</td>\n      <td>NaN</td>\n      <td>NaN</td>\n      <td>NaN</td>\n      <td>NaN</td>\n      <td>NaN</td>\n      <td>NaN</td>\n      <td>NaN</td>\n      <td>NaN</td>\n      <td>NaN</td>\n      <td>...</td>\n      <td>NaN</td>\n      <td>NaN</td>\n      <td>NaN</td>\n      <td>NaN</td>\n      <td>NaN</td>\n      <td>NaN</td>\n      <td>NaN</td>\n      <td>NaN</td>\n      <td>NaN</td>\n      <td>NaN</td>\n    </tr>\n    <tr>\n      <th>201</th>\n      <td>NaN</td>\n      <td>NaN</td>\n      <td>NaN</td>\n      <td>NaN</td>\n      <td>NaN</td>\n      <td>NaN</td>\n      <td>NaN</td>\n      <td>NaN</td>\n      <td>NaN</td>\n      <td>Итого</td>\n      <td>...</td>\n      <td>NaN</td>\n      <td>NaN</td>\n      <td>NaN</td>\n      <td>NaN</td>\n      <td>2856.285189</td>\n      <td>2998.991149</td>\n      <td>NaN</td>\n      <td>NaN</td>\n      <td>NaN</td>\n      <td>NaN</td>\n    </tr>\n    <tr>\n      <th>202</th>\n      <td>NaN</td>\n      <td>NaN</td>\n      <td>NaN</td>\n      <td>NaN</td>\n      <td>NaN</td>\n      <td>NaN</td>\n      <td>NaN</td>\n      <td>NaN</td>\n      <td>NaN</td>\n      <td>с учетом доли</td>\n      <td>...</td>\n      <td>NaN</td>\n      <td>NaN</td>\n      <td>NaN</td>\n      <td>NaN</td>\n      <td>1456.705446</td>\n      <td>1529.485486</td>\n      <td>NaN</td>\n      <td>NaN</td>\n      <td>NaN</td>\n      <td>NaN</td>\n    </tr>\n    <tr>\n      <th>203</th>\n      <td>NaN</td>\n      <td>NaN</td>\n      <td>NaN</td>\n      <td>NaN</td>\n      <td>NaN</td>\n      <td>NaN</td>\n      <td>NaN</td>\n      <td>NaN</td>\n      <td>NaN</td>\n      <td>NaN</td>\n      <td>...</td>\n      <td>NaN</td>\n      <td>NaN</td>\n      <td>NaN</td>\n      <td>NaN</td>\n      <td>NaN</td>\n      <td>NaN</td>\n      <td>NaN</td>\n      <td>NaN</td>\n      <td>NaN</td>\n      <td>NaN</td>\n    </tr>\n    <tr>\n      <th>204</th>\n      <td>NaN</td>\n      <td>NaN</td>\n      <td>NaN</td>\n      <td>NaN</td>\n      <td>NaN</td>\n      <td>NaN</td>\n      <td>NaN</td>\n      <td>NaN</td>\n      <td>NaN</td>\n      <td>NaN</td>\n      <td>...</td>\n      <td>NaN</td>\n      <td>NaN</td>\n      <td>NaN</td>\n      <td>NaN</td>\n      <td>NaN</td>\n      <td>NaN</td>\n      <td>NaN</td>\n      <td>NaN</td>\n      <td>NaN</td>\n      <td>NaN</td>\n    </tr>\n  </tbody>\n</table>\n<p>204 rows × 117 columns</p>\n</div>"
     },
     "execution_count": 29,
     "metadata": {},
     "output_type": "execute_result"
    }
   ],
   "source": [
    "from datetime import timedelta, datetime\n",
    "from dateutil.relativedelta import *\n",
    "t = datetime(2022, 1, 1)\n",
    "print(datetime(2022, 1, 1)+ relativedelta(months=+1))"
   ],
   "metadata": {
    "collapsed": false,
    "ExecuteTime": {
     "end_time": "2023-10-03T21:39:52.472164700Z",
     "start_time": "2023-10-03T21:39:52.293600100Z"
    }
   },
   "id": "e2b854a72f0cdc6d"
  },
  {
   "cell_type": "code",
   "execution_count": 27,
   "outputs": [
    {
     "data": {
      "text/plain": "    Месяц  Сумма НДПИ\n0       0     1283003\n1       1     1400403\n2       2     1188998\n3       3     1332521\n4       4     1197074\n5       5     1054489\n6       6     1268437\n7       7     1461491\n8       8     1677661\n9       9     1742498\n10     10     1973607\n11     11     2130722",
      "text/html": "<div>\n<style scoped>\n    .dataframe tbody tr th:only-of-type {\n        vertical-align: middle;\n    }\n\n    .dataframe tbody tr th {\n        vertical-align: top;\n    }\n\n    .dataframe thead th {\n        text-align: right;\n    }\n</style>\n<table border=\"1\" class=\"dataframe\">\n  <thead>\n    <tr style=\"text-align: right;\">\n      <th></th>\n      <th>Месяц</th>\n      <th>Сумма НДПИ</th>\n    </tr>\n  </thead>\n  <tbody>\n    <tr>\n      <th>0</th>\n      <td>0</td>\n      <td>1283003</td>\n    </tr>\n    <tr>\n      <th>1</th>\n      <td>1</td>\n      <td>1400403</td>\n    </tr>\n    <tr>\n      <th>2</th>\n      <td>2</td>\n      <td>1188998</td>\n    </tr>\n    <tr>\n      <th>3</th>\n      <td>3</td>\n      <td>1332521</td>\n    </tr>\n    <tr>\n      <th>4</th>\n      <td>4</td>\n      <td>1197074</td>\n    </tr>\n    <tr>\n      <th>5</th>\n      <td>5</td>\n      <td>1054489</td>\n    </tr>\n    <tr>\n      <th>6</th>\n      <td>6</td>\n      <td>1268437</td>\n    </tr>\n    <tr>\n      <th>7</th>\n      <td>7</td>\n      <td>1461491</td>\n    </tr>\n    <tr>\n      <th>8</th>\n      <td>8</td>\n      <td>1677661</td>\n    </tr>\n    <tr>\n      <th>9</th>\n      <td>9</td>\n      <td>1742498</td>\n    </tr>\n    <tr>\n      <th>10</th>\n      <td>10</td>\n      <td>1973607</td>\n    </tr>\n    <tr>\n      <th>11</th>\n      <td>11</td>\n      <td>2130722</td>\n    </tr>\n  </tbody>\n</table>\n</div>"
     },
     "execution_count": 27,
     "metadata": {},
     "output_type": "execute_result"
    }
   ],
   "source": [],
   "metadata": {
    "collapsed": false,
    "ExecuteTime": {
     "end_time": "2023-10-03T21:05:20.964099300Z",
     "start_time": "2023-10-03T21:05:20.928630100Z"
    }
   },
   "id": "9f3d1e830b1fd199"
  }
 ],
 "metadata": {
  "kernelspec": {
   "display_name": "Python 3",
   "language": "python",
   "name": "python3"
  },
  "language_info": {
   "codemirror_mode": {
    "name": "ipython",
    "version": 2
   },
   "file_extension": ".py",
   "mimetype": "text/x-python",
   "name": "python",
   "nbconvert_exporter": "python",
   "pygments_lexer": "ipython2",
   "version": "2.7.6"
  }
 },
 "nbformat": 4,
 "nbformat_minor": 5
}
