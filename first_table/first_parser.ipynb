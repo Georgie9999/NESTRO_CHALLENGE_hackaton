{
 "cells": [
  {
   "cell_type": "code",
   "execution_count": 2,
   "id": "initial_id",
   "metadata": {
    "collapsed": true,
    "ExecuteTime": {
     "end_time": "2023-10-03T19:10:43.815320900Z",
     "start_time": "2023-10-03T19:10:39.682294400Z"
    }
   },
   "outputs": [],
   "source": [
    "import pandas as pd\n",
    "import numpy as np\n",
    "data = pd.read_excel(\"Приложение 1.xlsx\")\n",
    "data"
   ]
  },
  {
   "cell_type": "code",
   "execution_count": 1,
   "outputs": [],
   "source": [
    "import urllib\n",
    "import requests\n",
    "from bs4 import BeautifulSoup as bs\n",
    "import urllib.request as urllib2\n",
    "\n",
    "from urllib.request import Request, urlopen\n",
    "from urllib.error import HTTPError\n",
    "from urllib.request import urlopen\n",
    "url = 'https://ru.investing.com/commodities/brent-wti-crude-spread-futures-historical-data'\n",
    "req = Request(url, headers={'User-Agent': 'Mozilla/5.0'})\n",
    "\n",
    "web_byte = urlopen(req).read()\n",
    "\n",
    "webpage = web_byte.decode('utf-8')\n",
    "webpage"
   ],
   "metadata": {
    "collapsed": false,
    "ExecuteTime": {
     "end_time": "2023-10-03T14:49:16.207348500Z",
     "start_time": "2023-10-03T14:49:14.450091900Z"
    }
   },
   "id": "9c8a54f868561636"
  },
  {
   "cell_type": "code",
   "execution_count": 3,
   "outputs": [],
   "source": [
    "soup = bs(webpage, \"html.parser\")\n",
    "quotes = soup.find_all('td', class_='datatable_cell__LJp3C datatable_cell--align-end__qgxDQ datatable_cell--up__hIuZF text-right text-sm font-normal leading-5 align-middle min-w-[77px] text-[#007C32]')\n",
    "\n",
    "\n",
    "for quote in quotes:\n",
    "    print(quote.text)\n",
    "\n"
   ],
   "metadata": {
    "collapsed": false,
    "ExecuteTime": {
     "end_time": "2023-10-03T19:10:47.584802Z",
     "start_time": "2023-10-03T19:10:47.363820400Z"
    }
   },
   "id": "793c5aee93c60b1e"
  },
  {
   "cell_type": "code",
   "execution_count": 5,
   "outputs": [],
   "source": [
    "data\n",
    "data.columns = data.iloc[0]\n",
    "data = data.drop(0, axis = 0)"
   ],
   "metadata": {
    "collapsed": false,
    "ExecuteTime": {
     "end_time": "2023-09-25T16:15:05.317361100Z",
     "start_time": "2023-09-25T16:15:05.066010600Z"
    }
   },
   "id": "c8c71d9a15de715b"
  },
  {
   "cell_type": "code",
   "execution_count": 15,
   "outputs": [
    {
     "data": {
      "text/plain": "Index([                                               'Курс $',\n                                        'Цена Brent,\\n$/барр.',\n                            'Spread (Корректировка),\\n$/барр.',\n                           'Freight (Корректировка),\\n$/барр.',\n                                    'Дисконт/Премия,\\n$/барр.',\n                          'Escalation/De-escalation,\\n$/барр.',\n                          'Расчетная цена на границе, $/барр.',\n                                     'Экспортная пошлина, $/т',\n                    'Коммерческие (за искл. Freight), $/барр.',\n                                                           nan,\n       ...\n       'Макропараметры (brent/ discount/ escalation) млн руб.',\n                            'Макропараметры (spread) млн руб.',\n                                          'Freight,\\nмлн руб.',\n                    'Коммерческие за искл. Freight,\\nмлн руб.',\n                                'Экспортная пошлина, млн руб.',\n               'Курсовые разницы (отгрузка / оплата)\\nмлн руб',\n                                  'откл НДПИ (макропараметры)',\n         'откл НДПИ уплач от расч НДПИ (курс оплаты)\\nмлн руб',\n        'откл НДПИ (Argus) и НДПИ (Plats Urals Med), млн руб.',\n                                                      'Эффект'],\n      dtype='object', name=0, length=117)"
     },
     "execution_count": 15,
     "metadata": {},
     "output_type": "execute_result"
    }
   ],
   "source": [
    "data.columns"
   ],
   "metadata": {
    "collapsed": false,
    "ExecuteTime": {
     "end_time": "2023-09-25T16:24:58.526417900Z",
     "start_time": "2023-09-25T16:24:58.362502700Z"
    }
   },
   "id": "9a11f4891a3ef140"
  },
  {
   "cell_type": "code",
   "execution_count": 7,
   "outputs": [
    {
     "data": {
      "text/plain": "'D'"
     },
     "execution_count": 7,
     "metadata": {},
     "output_type": "execute_result"
    }
   ],
   "source": [
    "ord('D')\n",
    "chr(68)"
   ],
   "metadata": {
    "collapsed": false,
    "ExecuteTime": {
     "end_time": "2023-09-25T16:15:05.332387400Z",
     "start_time": "2023-09-25T16:15:05.174627Z"
    }
   },
   "id": "4f0673f141eecec1"
  },
  {
   "cell_type": "code",
   "execution_count": 4,
   "outputs": [],
   "source": [
    "data.iloc[:, 13]\n"
   ],
   "metadata": {
    "collapsed": false,
    "ExecuteTime": {
     "end_time": "2023-10-03T19:10:56.771090400Z",
     "start_time": "2023-10-03T19:10:56.737618500Z"
    }
   },
   "id": "c696d46d7a0f07a2"
  },
  {
   "cell_type": "code",
   "execution_count": 16,
   "outputs": [],
   "source": [
    "dolar_course = data['Spread (Корректировка),\\n$/барр.'][data['Spread (Корректировка),\\n$/барр.'].notna()]"
   ],
   "metadata": {
    "collapsed": false,
    "ExecuteTime": {
     "end_time": "2023-09-25T16:29:22.878261500Z",
     "start_time": "2023-09-25T16:29:22.731271400Z"
    }
   },
   "id": "f9c2e81bd41a9c94"
  },
  {
   "cell_type": "code",
   "execution_count": 5,
   "outputs": [],
   "source": [
    "# 23.08 - 16.09\n",
    "data.columns"
   ],
   "metadata": {
    "collapsed": false,
    "ExecuteTime": {
     "end_time": "2023-10-03T19:11:00.924974200Z",
     "start_time": "2023-10-03T19:11:00.904826600Z"
    }
   },
   "id": "8f3c7af76d6bf577"
  },
  {
   "cell_type": "code",
   "execution_count": 18,
   "outputs": [
    {
     "data": {
      "text/plain": "WindowsPath('C:/Users/ghjch/miniconda3/lib/site-packages/Приложение 1.xlsx')"
     },
     "execution_count": 18,
     "metadata": {},
     "output_type": "execute_result"
    }
   ],
   "source": [
    "import pathlib\n",
    "import os\n",
    "import sys\n",
    "pathlib.Path(sys.argv[0]).parent / 'Приложение 1.xlsx'"
   ],
   "metadata": {
    "collapsed": false,
    "ExecuteTime": {
     "end_time": "2023-09-25T16:46:01.012902400Z",
     "start_time": "2023-09-25T16:46:00.917593100Z"
    }
   },
   "id": "da10b6828495d1e3"
  },
  {
   "cell_type": "code",
   "execution_count": 10,
   "outputs": [
    {
     "name": "stdout",
     "output_type": "stream",
     "text": [
      "2022-02-01\n"
     ]
    }
   ],
   "source": [
    "from datetime import timedelta, datetime\n",
    "from dateutil.relativedelta import *\n",
    "t = datetime(2022, 1, 1)\n",
    "print(datetime(2022, 1, 1)+ relativedelta(months=+1))"
   ],
   "metadata": {
    "collapsed": false,
    "ExecuteTime": {
     "end_time": "2023-09-25T19:56:47.173021500Z",
     "start_time": "2023-09-25T19:56:47.027884400Z"
    }
   },
   "id": "e2b854a72f0cdc6d"
  },
  {
   "cell_type": "code",
   "execution_count": null,
   "outputs": [],
   "source": [],
   "metadata": {
    "collapsed": false
   },
   "id": "9f3d1e830b1fd199"
  }
 ],
 "metadata": {
  "kernelspec": {
   "display_name": "Python 3",
   "language": "python",
   "name": "python3"
  },
  "language_info": {
   "codemirror_mode": {
    "name": "ipython",
    "version": 2
   },
   "file_extension": ".py",
   "mimetype": "text/x-python",
   "name": "python",
   "nbconvert_exporter": "python",
   "pygments_lexer": "ipython2",
   "version": "2.7.6"
  }
 },
 "nbformat": 4,
 "nbformat_minor": 5
}
