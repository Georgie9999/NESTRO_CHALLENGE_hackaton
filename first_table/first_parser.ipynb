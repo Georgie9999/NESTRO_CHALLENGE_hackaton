{
 "cells": [
  {
   "cell_type": "code",
   "execution_count": 9,
   "id": "initial_id",
   "metadata": {
    "collapsed": true,
    "ExecuteTime": {
     "end_time": "2023-10-03T21:02:16.075488100Z",
     "start_time": "2023-10-03T21:02:13.944192900Z"
    }
   },
   "outputs": [],
   "source": [
    "import pandas as pd\n",
    "import numpy as np\n",
    "data = pd.read_excel(\"Приложение 1.xlsx\")\n",
    "data"
   ]
  },
  {
   "cell_type": "code",
   "execution_count": 10,
   "outputs": [],
   "source": [
    "import urllib\n",
    "import requests\n",
    "from bs4 import BeautifulSoup as bs\n",
    "import urllib.request as urllib2\n",
    "\n",
    "from urllib.request import Request, urlopen\n",
    "from urllib.error import HTTPError\n",
    "from urllib.request import urlopen\n",
    "url = 'https://ru.investing.com/commodities/brent-wti-crude-spread-futures-historical-data'\n",
    "req = Request(url, headers={'User-Agent': 'Mozilla/5.0'})\n",
    "\n",
    "web_byte = urlopen(req).read()\n",
    "\n",
    "webpage = web_byte.decode('utf-8')\n",
    "webpage"
   ],
   "metadata": {
    "collapsed": false,
    "ExecuteTime": {
     "end_time": "2023-10-03T21:02:19.895566400Z",
     "start_time": "2023-10-03T21:02:16.110192400Z"
    }
   },
   "id": "9c8a54f868561636"
  },
  {
   "cell_type": "code",
   "execution_count": 11,
   "outputs": [],
   "source": [
    "soup = bs(webpage, \"html.parser\")\n",
    "quotes = soup.find_all('td', class_='datatable_cell__LJp3C datatable_cell--align-end__qgxDQ datatable_cell--up__hIuZF text-right text-sm font-normal leading-5 align-middle min-w-[77px] text-[#007C32]')\n",
    "\n",
    "\n",
    "for quote in quotes:\n",
    "    print(quote.text)\n",
    "\n"
   ],
   "metadata": {
    "collapsed": false,
    "ExecuteTime": {
     "end_time": "2023-10-03T21:02:20.322048100Z",
     "start_time": "2023-10-03T21:02:19.922186Z"
    }
   },
   "id": "793c5aee93c60b1e"
  },
  {
   "cell_type": "code",
   "execution_count": 12,
   "outputs": [],
   "source": [
    "data\n",
    "data.columns = data.iloc[0]\n",
    "data = data.drop(0, axis = 0)"
   ],
   "metadata": {
    "collapsed": false,
    "ExecuteTime": {
     "end_time": "2023-10-03T21:02:20.371944700Z",
     "start_time": "2023-10-03T21:02:20.330031800Z"
    }
   },
   "id": "c8c71d9a15de715b"
  },
  {
   "cell_type": "code",
   "execution_count": 13,
   "outputs": [],
   "source": [
    "data.columns"
   ],
   "metadata": {
    "collapsed": false,
    "ExecuteTime": {
     "end_time": "2023-10-03T21:02:20.372962600Z",
     "start_time": "2023-10-03T21:02:20.353112100Z"
    }
   },
   "id": "9a11f4891a3ef140"
  },
  {
   "cell_type": "code",
   "execution_count": 14,
   "outputs": [
    {
     "data": {
      "text/plain": "'D'"
     },
     "execution_count": 14,
     "metadata": {},
     "output_type": "execute_result"
    }
   ],
   "source": [
    "ord('D')\n",
    "chr(68)"
   ],
   "metadata": {
    "collapsed": false,
    "ExecuteTime": {
     "end_time": "2023-10-03T21:02:20.374978Z",
     "start_time": "2023-10-03T21:02:20.359094700Z"
    }
   },
   "id": "4f0673f141eecec1"
  },
  {
   "cell_type": "code",
   "execution_count": 15,
   "outputs": [],
   "source": [
    "data.iloc[:, 13]\n"
   ],
   "metadata": {
    "collapsed": false,
    "ExecuteTime": {
     "end_time": "2023-10-03T21:02:20.395039700Z",
     "start_time": "2023-10-03T21:02:20.377961500Z"
    }
   },
   "id": "c696d46d7a0f07a2"
  },
  {
   "cell_type": "code",
   "execution_count": 16,
   "outputs": [],
   "source": [
    "dolar_course = data['Spread (Корректировка),\\n$/барр.'][data['Spread (Корректировка),\\n$/барр.'].notna()]"
   ],
   "metadata": {
    "collapsed": false,
    "ExecuteTime": {
     "end_time": "2023-10-03T21:02:20.459799200Z",
     "start_time": "2023-10-03T21:02:20.402607700Z"
    }
   },
   "id": "f9c2e81bd41a9c94"
  },
  {
   "cell_type": "code",
   "execution_count": 17,
   "outputs": [],
   "source": [
    "# 23.08 - 16.09\n",
    "data.columns"
   ],
   "metadata": {
    "collapsed": false,
    "ExecuteTime": {
     "end_time": "2023-10-03T21:02:20.476860200Z",
     "start_time": "2023-10-03T21:02:20.415160300Z"
    }
   },
   "id": "8f3c7af76d6bf577"
  },
  {
   "cell_type": "code",
   "execution_count": 18,
   "outputs": [
    {
     "data": {
      "text/plain": "WindowsPath('C:/Users/ghjch/miniconda3/lib/site-packages/Приложение 1.xlsx')"
     },
     "execution_count": 18,
     "metadata": {},
     "output_type": "execute_result"
    }
   ],
   "source": [
    "import pathlib\n",
    "import os\n",
    "import sys\n",
    "pathlib.Path(sys.argv[0]).parent / 'Приложение 1.xlsx'"
   ],
   "metadata": {
    "collapsed": false,
    "ExecuteTime": {
     "end_time": "2023-10-03T21:02:20.478858100Z",
     "start_time": "2023-10-03T21:02:20.425695200Z"
    }
   },
   "id": "da10b6828495d1e3"
  },
  {
   "cell_type": "code",
   "execution_count": 19,
   "outputs": [
    {
     "name": "stdout",
     "output_type": "stream",
     "text": [
      "2022-02-01 00:00:00\n"
     ]
    }
   ],
   "source": [
    "from datetime import timedelta, datetime\n",
    "from dateutil.relativedelta import *\n",
    "t = datetime(2022, 1, 1)\n",
    "print(datetime(2022, 1, 1)+ relativedelta(months=+1))"
   ],
   "metadata": {
    "collapsed": false,
    "ExecuteTime": {
     "end_time": "2023-10-03T21:02:20.479856500Z",
     "start_time": "2023-10-03T21:02:20.446261100Z"
    }
   },
   "id": "e2b854a72f0cdc6d"
  },
  {
   "cell_type": "code",
   "execution_count": 27,
   "outputs": [
    {
     "data": {
      "text/plain": "    Месяц  Сумма НДПИ\n0       0     1283003\n1       1     1400403\n2       2     1188998\n3       3     1332521\n4       4     1197074\n5       5     1054489\n6       6     1268437\n7       7     1461491\n8       8     1677661\n9       9     1742498\n10     10     1973607\n11     11     2130722",
      "text/html": "<div>\n<style scoped>\n    .dataframe tbody tr th:only-of-type {\n        vertical-align: middle;\n    }\n\n    .dataframe tbody tr th {\n        vertical-align: top;\n    }\n\n    .dataframe thead th {\n        text-align: right;\n    }\n</style>\n<table border=\"1\" class=\"dataframe\">\n  <thead>\n    <tr style=\"text-align: right;\">\n      <th></th>\n      <th>Месяц</th>\n      <th>Сумма НДПИ</th>\n    </tr>\n  </thead>\n  <tbody>\n    <tr>\n      <th>0</th>\n      <td>0</td>\n      <td>1283003</td>\n    </tr>\n    <tr>\n      <th>1</th>\n      <td>1</td>\n      <td>1400403</td>\n    </tr>\n    <tr>\n      <th>2</th>\n      <td>2</td>\n      <td>1188998</td>\n    </tr>\n    <tr>\n      <th>3</th>\n      <td>3</td>\n      <td>1332521</td>\n    </tr>\n    <tr>\n      <th>4</th>\n      <td>4</td>\n      <td>1197074</td>\n    </tr>\n    <tr>\n      <th>5</th>\n      <td>5</td>\n      <td>1054489</td>\n    </tr>\n    <tr>\n      <th>6</th>\n      <td>6</td>\n      <td>1268437</td>\n    </tr>\n    <tr>\n      <th>7</th>\n      <td>7</td>\n      <td>1461491</td>\n    </tr>\n    <tr>\n      <th>8</th>\n      <td>8</td>\n      <td>1677661</td>\n    </tr>\n    <tr>\n      <th>9</th>\n      <td>9</td>\n      <td>1742498</td>\n    </tr>\n    <tr>\n      <th>10</th>\n      <td>10</td>\n      <td>1973607</td>\n    </tr>\n    <tr>\n      <th>11</th>\n      <td>11</td>\n      <td>2130722</td>\n    </tr>\n  </tbody>\n</table>\n</div>"
     },
     "execution_count": 27,
     "metadata": {},
     "output_type": "execute_result"
    }
   ],
   "source": [],
   "metadata": {
    "collapsed": false,
    "ExecuteTime": {
     "end_time": "2023-10-03T21:05:20.964099300Z",
     "start_time": "2023-10-03T21:05:20.928630100Z"
    }
   },
   "id": "9f3d1e830b1fd199"
  }
 ],
 "metadata": {
  "kernelspec": {
   "display_name": "Python 3",
   "language": "python",
   "name": "python3"
  },
  "language_info": {
   "codemirror_mode": {
    "name": "ipython",
    "version": 2
   },
   "file_extension": ".py",
   "mimetype": "text/x-python",
   "name": "python",
   "nbconvert_exporter": "python",
   "pygments_lexer": "ipython2",
   "version": "2.7.6"
  }
 },
 "nbformat": 4,
 "nbformat_minor": 5
}
